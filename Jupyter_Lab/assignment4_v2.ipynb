{
 "cells": [
  {
   "cell_type": "code",
   "execution_count": 1,
   "id": "f5a51f4f",
   "metadata": {},
   "outputs": [],
   "source": [
    "import warnings\n",
    "warnings.filterwarnings('ignore')"
   ]
  },
  {
   "cell_type": "code",
   "execution_count": 2,
   "id": "943df258",
   "metadata": {},
   "outputs": [
    {
     "name": "stdout",
     "output_type": "stream",
     "text": [
      "/opt/conda/bin/python\n",
      "3.7.12 | packaged by conda-forge | (default, Oct 26 2021, 06:08:53) \n",
      "[GCC 9.4.0]\n",
      "sys.version_info(major=3, minor=7, micro=12, releaselevel='final', serial=0)\n"
     ]
    }
   ],
   "source": [
    "import sys\n",
    "print(sys.executable)\n",
    "print(sys.version)\n",
    "print(sys.version_info)"
   ]
  },
  {
   "cell_type": "code",
   "execution_count": 3,
   "id": "47171ef7",
   "metadata": {},
   "outputs": [],
   "source": [
    "# !sudo apt-get update\n",
    "# !sudo apt-get install -y xvfb ffmpeg freeglut3-dev\n",
    "# !pip install -q 'gym==0.16.0'\n",
    "# !pip install 'imageio==2.4.0'\n",
    "# !pip install pyvirtualdisplay\n",
    "# !pip install tf-agents[reverb]\n",
    "# !pip install pyglet\n",
    "# !pip install ale-py"
   ]
  },
  {
   "cell_type": "code",
   "execution_count": 4,
   "id": "ce0f6764",
   "metadata": {},
   "outputs": [
    {
     "name": "stdout",
     "output_type": "stream",
     "text": [
      "Requirement already satisfied: imageio in /opt/conda/envs/ppenv/lib/python3.9/site-packages (2.4.0)\n",
      "Requirement already satisfied: pillow in /opt/conda/envs/ppenv/lib/python3.9/site-packages (from imageio) (9.3.0)\n",
      "Requirement already satisfied: numpy in /opt/conda/envs/ppenv/lib/python3.9/site-packages (from imageio) (1.23.5)\n"
     ]
    }
   ],
   "source": [
    "!pip install imageio"
   ]
  },
  {
   "cell_type": "code",
   "execution_count": 5,
   "id": "caee94f5",
   "metadata": {},
   "outputs": [],
   "source": [
    "# !wget http://www.atarimania.com/roms/Roms.rar\n",
    "# !pip install unrar\n",
    "# !unrar x Roms.rar\n",
    "# !mkdir rars\n",
    "# !mv HC\\ ROMS.zip  rars\n",
    "# !mv ROMS.zip  rars\n",
    "# !python -m atari_py.import_roms rars"
   ]
  },
  {
   "cell_type": "code",
   "execution_count": 6,
   "id": "65d6fa6c",
   "metadata": {},
   "outputs": [
    {
     "name": "stderr",
     "output_type": "stream",
     "text": [
      "2022-12-04 23:38:00.149723: I tensorflow/core/platform/cpu_feature_guard.cc:193] This TensorFlow binary is optimized with oneAPI Deep Neural Network Library (oneDNN) to use the following CPU instructions in performance-critical operations:  AVX2 FMA\n",
      "To enable them in other operations, rebuild TensorFlow with the appropriate compiler flags.\n",
      "2022-12-04 23:38:00.316829: E tensorflow/stream_executor/cuda/cuda_blas.cc:2981] Unable to register cuBLAS factory: Attempting to register factory for plugin cuBLAS when one has already been registered\n",
      "2022-12-04 23:38:01.075164: W tensorflow/stream_executor/platform/default/dso_loader.cc:64] Could not load dynamic library 'libnvinfer.so.7'; dlerror: libnvinfer.so.7: cannot open shared object file: No such file or directory; LD_LIBRARY_PATH: /opt/conda/lib/python3.7/site-packages/cv2/../../lib64:/usr/local/cuda/lib64:/usr/local/nccl2/lib:/usr/local/cuda/extras/CUPTI/lib64\n",
      "2022-12-04 23:38:01.075279: W tensorflow/stream_executor/platform/default/dso_loader.cc:64] Could not load dynamic library 'libnvinfer_plugin.so.7'; dlerror: libnvinfer_plugin.so.7: cannot open shared object file: No such file or directory; LD_LIBRARY_PATH: /opt/conda/lib/python3.7/site-packages/cv2/../../lib64:/usr/local/cuda/lib64:/usr/local/nccl2/lib:/usr/local/cuda/extras/CUPTI/lib64\n",
      "2022-12-04 23:38:01.075290: W tensorflow/compiler/tf2tensorrt/utils/py_utils.cc:38] TF-TRT Warning: Cannot dlopen some TensorRT libraries. If you would like to use Nvidia GPU with TensorRT, please make sure the missing libraries mentioned above are installed properly.\n"
     ]
    }
   ],
   "source": [
    "import base64\n",
    "import imageio\n",
    "import IPython\n",
    "import matplotlib\n",
    "import matplotlib.pyplot as plt\n",
    "import numpy as np\n",
    "import PIL.Image\n",
    "import pyvirtualdisplay\n",
    "# import reverb\n",
    "\n",
    "import gym\n",
    "import tensorflow as tf\n",
    "\n",
    "from tf_agents.agents.dqn import dqn_agent\n",
    "from tf_agents.drivers import py_driver\n",
    "from tf_agents.drivers.dynamic_step_driver import DynamicStepDriver\n",
    "from tf_agents.environments import suite_gym, suite_atari\n",
    "from tf_agents.environments import tf_py_environment\n",
    "from tf_agents.eval import metric_utils\n",
    "from tf_agents.metrics import tf_metrics\n",
    "from tf_agents.networks import sequential, q_network, network\n",
    "from tf_agents.policies import py_tf_eager_policy\n",
    "from tf_agents.policies import random_tf_policy\n",
    "from tf_agents.replay_buffers import TFUniformReplayBuffer\n",
    "from tf_agents.trajectories import trajectory\n",
    "from tf_agents.specs import tensor_spec\n",
    "from tf_agents.utils import common"
   ]
  },
  {
   "cell_type": "code",
   "execution_count": 7,
   "id": "ae8c3b94",
   "metadata": {},
   "outputs": [
    {
     "data": {
      "text/plain": [
       "'0.21.0'"
      ]
     },
     "execution_count": 7,
     "metadata": {},
     "output_type": "execute_result"
    }
   ],
   "source": [
    "gym.__version__"
   ]
  },
  {
   "cell_type": "code",
   "execution_count": 8,
   "id": "61465b0b",
   "metadata": {},
   "outputs": [
    {
     "name": "stdout",
     "output_type": "stream",
     "text": [
      "dict_values([EnvSpec(ALE/Tetris-v5), EnvSpec(ALE/Tetris-ram-v5), EnvSpec(ALE/Darkchambers-v5), EnvSpec(ALE/Darkchambers-ram-v5), EnvSpec(ALE/RoadRunner-v5), EnvSpec(ALE/RoadRunner-ram-v5), EnvSpec(ALE/Hero-v5), EnvSpec(ALE/Hero-ram-v5), EnvSpec(ALE/BattleZone-v5), EnvSpec(ALE/BattleZone-ram-v5), EnvSpec(ALE/Pitfall2-v5), EnvSpec(ALE/Pitfall2-ram-v5), EnvSpec(ALE/UpNDown-v5), EnvSpec(ALE/UpNDown-ram-v5), EnvSpec(ALE/SpaceWar-v5), EnvSpec(ALE/SpaceWar-ram-v5), EnvSpec(ALE/Entombed-v5), EnvSpec(ALE/Entombed-ram-v5), EnvSpec(ALE/Koolaid-v5), EnvSpec(ALE/Koolaid-ram-v5), EnvSpec(ALE/Phoenix-v5), EnvSpec(ALE/Phoenix-ram-v5), EnvSpec(ALE/Robotank-v5), EnvSpec(ALE/Robotank-ram-v5), EnvSpec(ALE/BasicMath-v5), EnvSpec(ALE/BasicMath-ram-v5), EnvSpec(ALE/Pacman-v5), EnvSpec(ALE/Pacman-ram-v5), EnvSpec(ALE/Amidar-v5), EnvSpec(ALE/Amidar-ram-v5), EnvSpec(ALE/Kangaroo-v5), EnvSpec(ALE/Kangaroo-ram-v5), EnvSpec(ALE/ChopperCommand-v5), EnvSpec(ALE/ChopperCommand-ram-v5), EnvSpec(ALE/ElevatorAction-v5), EnvSpec(ALE/ElevatorAction-ram-v5), EnvSpec(ALE/Superman-v5), EnvSpec(ALE/Superman-ram-v5), EnvSpec(ALE/Kaboom-v5), EnvSpec(ALE/Kaboom-ram-v5), EnvSpec(ALE/Frogger-v5), EnvSpec(ALE/Frogger-ram-v5), EnvSpec(ALE/MsPacman-v5), EnvSpec(ALE/MsPacman-ram-v5), EnvSpec(ALE/MontezumaRevenge-v5), EnvSpec(ALE/MontezumaRevenge-ram-v5), EnvSpec(ALE/DonkeyKong-v5), EnvSpec(ALE/DonkeyKong-ram-v5), EnvSpec(ALE/SirLancelot-v5), EnvSpec(ALE/SirLancelot-ram-v5), EnvSpec(ALE/YarsRevenge-v5), EnvSpec(ALE/YarsRevenge-ram-v5), EnvSpec(ALE/Klax-v5), EnvSpec(ALE/Klax-ram-v5), EnvSpec(ALE/VideoCheckers-v5), EnvSpec(ALE/VideoCheckers-ram-v5), EnvSpec(ALE/Skiing-v5), EnvSpec(ALE/Skiing-ram-v5), EnvSpec(ALE/Qbert-v5), EnvSpec(ALE/Qbert-ram-v5), EnvSpec(ALE/Atlantis2-v5), EnvSpec(ALE/Atlantis2-ram-v5), EnvSpec(ALE/Krull-v5), EnvSpec(ALE/Krull-ram-v5), EnvSpec(ALE/StarGunner-v5), EnvSpec(ALE/StarGunner-ram-v5), EnvSpec(ALE/PrivateEye-v5), EnvSpec(ALE/PrivateEye-ram-v5), EnvSpec(ALE/WizardOfWor-v5), EnvSpec(ALE/WizardOfWor-ram-v5), EnvSpec(ALE/Backgammon-v5), EnvSpec(ALE/Backgammon-ram-v5), EnvSpec(ALE/Boxing-v5), EnvSpec(ALE/Boxing-ram-v5), EnvSpec(ALE/FishingDerby-v5), EnvSpec(ALE/FishingDerby-ram-v5), EnvSpec(ALE/KeystoneKapers-v5), EnvSpec(ALE/KeystoneKapers-ram-v5), EnvSpec(ALE/Assault-v5), EnvSpec(ALE/Assault-ram-v5), EnvSpec(ALE/IceHockey-v5), EnvSpec(ALE/IceHockey-ram-v5), EnvSpec(ALE/Blackjack-v5), EnvSpec(ALE/Blackjack-ram-v5), EnvSpec(ALE/HauntedHouse-v5), EnvSpec(ALE/HauntedHouse-ram-v5), EnvSpec(ALE/MarioBros-v5), EnvSpec(ALE/MarioBros-ram-v5), EnvSpec(ALE/SpaceInvaders-v5), EnvSpec(ALE/SpaceInvaders-ram-v5), EnvSpec(ALE/Othello-v5), EnvSpec(ALE/Othello-ram-v5), EnvSpec(ALE/Pooyan-v5), EnvSpec(ALE/Pooyan-ram-v5), EnvSpec(ALE/Gravitar-v5), EnvSpec(ALE/Gravitar-ram-v5), EnvSpec(ALE/CrazyClimber-v5), EnvSpec(ALE/CrazyClimber-ram-v5), EnvSpec(ALE/Galaxian-v5), EnvSpec(ALE/Galaxian-ram-v5), EnvSpec(ALE/Crossbow-v5), EnvSpec(ALE/Crossbow-ram-v5), EnvSpec(ALE/Solaris-v5), EnvSpec(ALE/Solaris-ram-v5), EnvSpec(ALE/Trondead-v5), EnvSpec(ALE/Trondead-ram-v5), EnvSpec(ALE/Turmoil-v5), EnvSpec(ALE/Turmoil-ram-v5), EnvSpec(ALE/Videocube-v5), EnvSpec(ALE/Videocube-ram-v5), EnvSpec(ALE/Carnival-v5), EnvSpec(ALE/Carnival-ram-v5), EnvSpec(ALE/MiniatureGolf-v5), EnvSpec(ALE/MiniatureGolf-ram-v5), EnvSpec(ALE/Asterix-v5), EnvSpec(ALE/Asterix-ram-v5), EnvSpec(ALE/Videochess-v5), EnvSpec(ALE/Videochess-ram-v5), EnvSpec(ALE/Defender-v5), EnvSpec(ALE/Defender-ram-v5), EnvSpec(ALE/Adventure-v5), EnvSpec(ALE/Adventure-ram-v5), EnvSpec(ALE/AirRaid-v5), EnvSpec(ALE/AirRaid-ram-v5), EnvSpec(ALE/Breakout-v5), EnvSpec(ALE/Breakout-ram-v5), EnvSpec(ALE/Gopher-v5), EnvSpec(ALE/Gopher-ram-v5), EnvSpec(ALE/KungFuMaster-v5), EnvSpec(ALE/KungFuMaster-ram-v5), EnvSpec(ALE/Riverraid-v5), EnvSpec(ALE/Riverraid-ram-v5), EnvSpec(ALE/Et-v5), EnvSpec(ALE/Et-ram-v5), EnvSpec(ALE/TimePilot-v5), EnvSpec(ALE/TimePilot-ram-v5), EnvSpec(ALE/Tennis-v5), EnvSpec(ALE/Tennis-ram-v5), EnvSpec(ALE/Hangman-v5), EnvSpec(ALE/Hangman-ram-v5), EnvSpec(ALE/Asteroids-v5), EnvSpec(ALE/Asteroids-ram-v5), EnvSpec(ALE/Centipede-v5), EnvSpec(ALE/Centipede-ram-v5), EnvSpec(ALE/Venture-v5), EnvSpec(ALE/Venture-ram-v5), EnvSpec(ALE/Jamesbond-v5), EnvSpec(ALE/Jamesbond-ram-v5), EnvSpec(ALE/Pitfall-v5), EnvSpec(ALE/Pitfall-ram-v5), EnvSpec(ALE/Freeway-v5), EnvSpec(ALE/Freeway-ram-v5), EnvSpec(ALE/MrDo-v5), EnvSpec(ALE/MrDo-ram-v5), EnvSpec(ALE/BankHeist-v5), EnvSpec(ALE/BankHeist-ram-v5), EnvSpec(ALE/Tutankham-v5), EnvSpec(ALE/Tutankham-ram-v5), EnvSpec(ALE/DemonAttack-v5), EnvSpec(ALE/DemonAttack-ram-v5), EnvSpec(ALE/FlagCapture-v5), EnvSpec(ALE/FlagCapture-ram-v5), EnvSpec(ALE/Enduro-v5), EnvSpec(ALE/Enduro-ram-v5), EnvSpec(ALE/Earthworld-v5), EnvSpec(ALE/Earthworld-ram-v5), EnvSpec(ALE/Zaxxon-v5), EnvSpec(ALE/Zaxxon-ram-v5), EnvSpec(ALE/NameThisGame-v5), EnvSpec(ALE/NameThisGame-ram-v5), EnvSpec(ALE/LaserGates-v5), EnvSpec(ALE/LaserGates-ram-v5), EnvSpec(ALE/TicTacToe3D-v5), EnvSpec(ALE/TicTacToe3D-ram-v5), EnvSpec(ALE/WordZapper-v5), EnvSpec(ALE/WordZapper-ram-v5), EnvSpec(ALE/BeamRider-v5), EnvSpec(ALE/BeamRider-ram-v5), EnvSpec(ALE/DoubleDunk-v5), EnvSpec(ALE/DoubleDunk-ram-v5), EnvSpec(ALE/JourneyEscape-v5), EnvSpec(ALE/JourneyEscape-ram-v5), EnvSpec(ALE/Alien-v5), EnvSpec(ALE/Alien-ram-v5), EnvSpec(ALE/Surround-v5), EnvSpec(ALE/Surround-ram-v5), EnvSpec(ALE/Casino-v5), EnvSpec(ALE/Casino-ram-v5), EnvSpec(ALE/HumanCannonball-v5), EnvSpec(ALE/HumanCannonball-ram-v5), EnvSpec(ALE/Bowling-v5), EnvSpec(ALE/Bowling-ram-v5), EnvSpec(ALE/Frostbite-v5), EnvSpec(ALE/Frostbite-ram-v5), EnvSpec(ALE/KingKong-v5), EnvSpec(ALE/KingKong-ram-v5), EnvSpec(ALE/Pong-v5), EnvSpec(ALE/Pong-ram-v5), EnvSpec(ALE/VideoPinball-v5), EnvSpec(ALE/VideoPinball-ram-v5), EnvSpec(ALE/Atlantis-v5), EnvSpec(ALE/Atlantis-ram-v5), EnvSpec(ALE/LostLuggage-v5), EnvSpec(ALE/LostLuggage-ram-v5), EnvSpec(ALE/Seaquest-v5), EnvSpec(ALE/Seaquest-ram-v5), EnvSpec(ALE/Berzerk-v5), EnvSpec(ALE/Berzerk-ram-v5), EnvSpec(Adventure-v0), EnvSpec(AdventureDeterministic-v0), EnvSpec(AdventureNoFrameskip-v0), EnvSpec(Adventure-v4), EnvSpec(AdventureDeterministic-v4), EnvSpec(AdventureNoFrameskip-v4), EnvSpec(Adventure-ram-v0), EnvSpec(Adventure-ramDeterministic-v0), EnvSpec(Adventure-ramNoFrameskip-v0), EnvSpec(Adventure-ram-v4), EnvSpec(Adventure-ramDeterministic-v4), EnvSpec(Adventure-ramNoFrameskip-v4), EnvSpec(AirRaid-v0), EnvSpec(AirRaidDeterministic-v0), EnvSpec(AirRaidNoFrameskip-v0), EnvSpec(AirRaid-v4), EnvSpec(AirRaidDeterministic-v4), EnvSpec(AirRaidNoFrameskip-v4), EnvSpec(AirRaid-ram-v0), EnvSpec(AirRaid-ramDeterministic-v0), EnvSpec(AirRaid-ramNoFrameskip-v0), EnvSpec(AirRaid-ram-v4), EnvSpec(AirRaid-ramDeterministic-v4), EnvSpec(AirRaid-ramNoFrameskip-v4), EnvSpec(Alien-v0), EnvSpec(AlienDeterministic-v0), EnvSpec(AlienNoFrameskip-v0), EnvSpec(Alien-v4), EnvSpec(AlienDeterministic-v4), EnvSpec(AlienNoFrameskip-v4), EnvSpec(Alien-ram-v0), EnvSpec(Alien-ramDeterministic-v0), EnvSpec(Alien-ramNoFrameskip-v0), EnvSpec(Alien-ram-v4), EnvSpec(Alien-ramDeterministic-v4), EnvSpec(Alien-ramNoFrameskip-v4), EnvSpec(Amidar-v0), EnvSpec(AmidarDeterministic-v0), EnvSpec(AmidarNoFrameskip-v0), EnvSpec(Amidar-v4), EnvSpec(AmidarDeterministic-v4), EnvSpec(AmidarNoFrameskip-v4), EnvSpec(Amidar-ram-v0), EnvSpec(Amidar-ramDeterministic-v0), EnvSpec(Amidar-ramNoFrameskip-v0), EnvSpec(Amidar-ram-v4), EnvSpec(Amidar-ramDeterministic-v4), EnvSpec(Amidar-ramNoFrameskip-v4), EnvSpec(Assault-v0), EnvSpec(AssaultDeterministic-v0), EnvSpec(AssaultNoFrameskip-v0), EnvSpec(Assault-v4), EnvSpec(AssaultDeterministic-v4), EnvSpec(AssaultNoFrameskip-v4), EnvSpec(Assault-ram-v0), EnvSpec(Assault-ramDeterministic-v0), EnvSpec(Assault-ramNoFrameskip-v0), EnvSpec(Assault-ram-v4), EnvSpec(Assault-ramDeterministic-v4), EnvSpec(Assault-ramNoFrameskip-v4), EnvSpec(Asterix-v0), EnvSpec(AsterixDeterministic-v0), EnvSpec(AsterixNoFrameskip-v0), EnvSpec(Asterix-v4), EnvSpec(AsterixDeterministic-v4), EnvSpec(AsterixNoFrameskip-v4), EnvSpec(Asterix-ram-v0), EnvSpec(Asterix-ramDeterministic-v0), EnvSpec(Asterix-ramNoFrameskip-v0), EnvSpec(Asterix-ram-v4), EnvSpec(Asterix-ramDeterministic-v4), EnvSpec(Asterix-ramNoFrameskip-v4), EnvSpec(Asteroids-v0), EnvSpec(AsteroidsDeterministic-v0), EnvSpec(AsteroidsNoFrameskip-v0), EnvSpec(Asteroids-v4), EnvSpec(AsteroidsDeterministic-v4), EnvSpec(AsteroidsNoFrameskip-v4), EnvSpec(Asteroids-ram-v0), EnvSpec(Asteroids-ramDeterministic-v0), EnvSpec(Asteroids-ramNoFrameskip-v0), EnvSpec(Asteroids-ram-v4), EnvSpec(Asteroids-ramDeterministic-v4), EnvSpec(Asteroids-ramNoFrameskip-v4), EnvSpec(Atlantis-v0), EnvSpec(AtlantisDeterministic-v0), EnvSpec(AtlantisNoFrameskip-v0), EnvSpec(Atlantis-v4), EnvSpec(AtlantisDeterministic-v4), EnvSpec(AtlantisNoFrameskip-v4), EnvSpec(Atlantis-ram-v0), EnvSpec(Atlantis-ramDeterministic-v0), EnvSpec(Atlantis-ramNoFrameskip-v0), EnvSpec(Atlantis-ram-v4), EnvSpec(Atlantis-ramDeterministic-v4), EnvSpec(Atlantis-ramNoFrameskip-v4), EnvSpec(BankHeist-v0), EnvSpec(BankHeistDeterministic-v0), EnvSpec(BankHeistNoFrameskip-v0), EnvSpec(BankHeist-v4), EnvSpec(BankHeistDeterministic-v4), EnvSpec(BankHeistNoFrameskip-v4), EnvSpec(BankHeist-ram-v0), EnvSpec(BankHeist-ramDeterministic-v0), EnvSpec(BankHeist-ramNoFrameskip-v0), EnvSpec(BankHeist-ram-v4), EnvSpec(BankHeist-ramDeterministic-v4), EnvSpec(BankHeist-ramNoFrameskip-v4), EnvSpec(BattleZone-v0), EnvSpec(BattleZoneDeterministic-v0), EnvSpec(BattleZoneNoFrameskip-v0), EnvSpec(BattleZone-v4), EnvSpec(BattleZoneDeterministic-v4), EnvSpec(BattleZoneNoFrameskip-v4), EnvSpec(BattleZone-ram-v0), EnvSpec(BattleZone-ramDeterministic-v0), EnvSpec(BattleZone-ramNoFrameskip-v0), EnvSpec(BattleZone-ram-v4), EnvSpec(BattleZone-ramDeterministic-v4), EnvSpec(BattleZone-ramNoFrameskip-v4), EnvSpec(BeamRider-v0), EnvSpec(BeamRiderDeterministic-v0), EnvSpec(BeamRiderNoFrameskip-v0), EnvSpec(BeamRider-v4), EnvSpec(BeamRiderDeterministic-v4), EnvSpec(BeamRiderNoFrameskip-v4), EnvSpec(BeamRider-ram-v0), EnvSpec(BeamRider-ramDeterministic-v0), EnvSpec(BeamRider-ramNoFrameskip-v0), EnvSpec(BeamRider-ram-v4), EnvSpec(BeamRider-ramDeterministic-v4), EnvSpec(BeamRider-ramNoFrameskip-v4), EnvSpec(Berzerk-v0), EnvSpec(BerzerkDeterministic-v0), EnvSpec(BerzerkNoFrameskip-v0), EnvSpec(Berzerk-v4), EnvSpec(BerzerkDeterministic-v4), EnvSpec(BerzerkNoFrameskip-v4), EnvSpec(Berzerk-ram-v0), EnvSpec(Berzerk-ramDeterministic-v0), EnvSpec(Berzerk-ramNoFrameskip-v0), EnvSpec(Berzerk-ram-v4), EnvSpec(Berzerk-ramDeterministic-v4), EnvSpec(Berzerk-ramNoFrameskip-v4), EnvSpec(Bowling-v0), EnvSpec(BowlingDeterministic-v0), EnvSpec(BowlingNoFrameskip-v0), EnvSpec(Bowling-v4), EnvSpec(BowlingDeterministic-v4), EnvSpec(BowlingNoFrameskip-v4), EnvSpec(Bowling-ram-v0), EnvSpec(Bowling-ramDeterministic-v0), EnvSpec(Bowling-ramNoFrameskip-v0), EnvSpec(Bowling-ram-v4), EnvSpec(Bowling-ramDeterministic-v4), EnvSpec(Bowling-ramNoFrameskip-v4), EnvSpec(Boxing-v0), EnvSpec(BoxingDeterministic-v0), EnvSpec(BoxingNoFrameskip-v0), EnvSpec(Boxing-v4), EnvSpec(BoxingDeterministic-v4), EnvSpec(BoxingNoFrameskip-v4), EnvSpec(Boxing-ram-v0), EnvSpec(Boxing-ramDeterministic-v0), EnvSpec(Boxing-ramNoFrameskip-v0), EnvSpec(Boxing-ram-v4), EnvSpec(Boxing-ramDeterministic-v4), EnvSpec(Boxing-ramNoFrameskip-v4), EnvSpec(Breakout-v0), EnvSpec(BreakoutDeterministic-v0), EnvSpec(BreakoutNoFrameskip-v0), EnvSpec(Breakout-v4), EnvSpec(BreakoutDeterministic-v4), EnvSpec(BreakoutNoFrameskip-v4), EnvSpec(Breakout-ram-v0), EnvSpec(Breakout-ramDeterministic-v0), EnvSpec(Breakout-ramNoFrameskip-v0), EnvSpec(Breakout-ram-v4), EnvSpec(Breakout-ramDeterministic-v4), EnvSpec(Breakout-ramNoFrameskip-v4), EnvSpec(Carnival-v0), EnvSpec(CarnivalDeterministic-v0), EnvSpec(CarnivalNoFrameskip-v0), EnvSpec(Carnival-v4), EnvSpec(CarnivalDeterministic-v4), EnvSpec(CarnivalNoFrameskip-v4), EnvSpec(Carnival-ram-v0), EnvSpec(Carnival-ramDeterministic-v0), EnvSpec(Carnival-ramNoFrameskip-v0), EnvSpec(Carnival-ram-v4), EnvSpec(Carnival-ramDeterministic-v4), EnvSpec(Carnival-ramNoFrameskip-v4), EnvSpec(Centipede-v0), EnvSpec(CentipedeDeterministic-v0), EnvSpec(CentipedeNoFrameskip-v0), EnvSpec(Centipede-v4), EnvSpec(CentipedeDeterministic-v4), EnvSpec(CentipedeNoFrameskip-v4), EnvSpec(Centipede-ram-v0), EnvSpec(Centipede-ramDeterministic-v0), EnvSpec(Centipede-ramNoFrameskip-v0), EnvSpec(Centipede-ram-v4), EnvSpec(Centipede-ramDeterministic-v4), EnvSpec(Centipede-ramNoFrameskip-v4), EnvSpec(ChopperCommand-v0), EnvSpec(ChopperCommandDeterministic-v0), EnvSpec(ChopperCommandNoFrameskip-v0), EnvSpec(ChopperCommand-v4), EnvSpec(ChopperCommandDeterministic-v4), EnvSpec(ChopperCommandNoFrameskip-v4), EnvSpec(ChopperCommand-ram-v0), EnvSpec(ChopperCommand-ramDeterministic-v0), EnvSpec(ChopperCommand-ramNoFrameskip-v0), EnvSpec(ChopperCommand-ram-v4), EnvSpec(ChopperCommand-ramDeterministic-v4), EnvSpec(ChopperCommand-ramNoFrameskip-v4), EnvSpec(CrazyClimber-v0), EnvSpec(CrazyClimberDeterministic-v0), EnvSpec(CrazyClimberNoFrameskip-v0), EnvSpec(CrazyClimber-v4), EnvSpec(CrazyClimberDeterministic-v4), EnvSpec(CrazyClimberNoFrameskip-v4), EnvSpec(CrazyClimber-ram-v0), EnvSpec(CrazyClimber-ramDeterministic-v0), EnvSpec(CrazyClimber-ramNoFrameskip-v0), EnvSpec(CrazyClimber-ram-v4), EnvSpec(CrazyClimber-ramDeterministic-v4), EnvSpec(CrazyClimber-ramNoFrameskip-v4), EnvSpec(Defender-v0), EnvSpec(DefenderDeterministic-v0), EnvSpec(DefenderNoFrameskip-v0), EnvSpec(Defender-v4), EnvSpec(DefenderDeterministic-v4), EnvSpec(DefenderNoFrameskip-v4), EnvSpec(Defender-ram-v0), EnvSpec(Defender-ramDeterministic-v0), EnvSpec(Defender-ramNoFrameskip-v0), EnvSpec(Defender-ram-v4), EnvSpec(Defender-ramDeterministic-v4), EnvSpec(Defender-ramNoFrameskip-v4), EnvSpec(DemonAttack-v0), EnvSpec(DemonAttackDeterministic-v0), EnvSpec(DemonAttackNoFrameskip-v0), EnvSpec(DemonAttack-v4), EnvSpec(DemonAttackDeterministic-v4), EnvSpec(DemonAttackNoFrameskip-v4), EnvSpec(DemonAttack-ram-v0), EnvSpec(DemonAttack-ramDeterministic-v0), EnvSpec(DemonAttack-ramNoFrameskip-v0), EnvSpec(DemonAttack-ram-v4), EnvSpec(DemonAttack-ramDeterministic-v4), EnvSpec(DemonAttack-ramNoFrameskip-v4), EnvSpec(DoubleDunk-v0), EnvSpec(DoubleDunkDeterministic-v0), EnvSpec(DoubleDunkNoFrameskip-v0), EnvSpec(DoubleDunk-v4), EnvSpec(DoubleDunkDeterministic-v4), EnvSpec(DoubleDunkNoFrameskip-v4), EnvSpec(DoubleDunk-ram-v0), EnvSpec(DoubleDunk-ramDeterministic-v0), EnvSpec(DoubleDunk-ramNoFrameskip-v0), EnvSpec(DoubleDunk-ram-v4), EnvSpec(DoubleDunk-ramDeterministic-v4), EnvSpec(DoubleDunk-ramNoFrameskip-v4), EnvSpec(ElevatorAction-v0), EnvSpec(ElevatorActionDeterministic-v0), EnvSpec(ElevatorActionNoFrameskip-v0), EnvSpec(ElevatorAction-v4), EnvSpec(ElevatorActionDeterministic-v4), EnvSpec(ElevatorActionNoFrameskip-v4), EnvSpec(ElevatorAction-ram-v0), EnvSpec(ElevatorAction-ramDeterministic-v0), EnvSpec(ElevatorAction-ramNoFrameskip-v0), EnvSpec(ElevatorAction-ram-v4), EnvSpec(ElevatorAction-ramDeterministic-v4), EnvSpec(ElevatorAction-ramNoFrameskip-v4), EnvSpec(Enduro-v0), EnvSpec(EnduroDeterministic-v0), EnvSpec(EnduroNoFrameskip-v0), EnvSpec(Enduro-v4), EnvSpec(EnduroDeterministic-v4), EnvSpec(EnduroNoFrameskip-v4), EnvSpec(Enduro-ram-v0), EnvSpec(Enduro-ramDeterministic-v0), EnvSpec(Enduro-ramNoFrameskip-v0), EnvSpec(Enduro-ram-v4), EnvSpec(Enduro-ramDeterministic-v4), EnvSpec(Enduro-ramNoFrameskip-v4), EnvSpec(FishingDerby-v0), EnvSpec(FishingDerbyDeterministic-v0), EnvSpec(FishingDerbyNoFrameskip-v0), EnvSpec(FishingDerby-v4), EnvSpec(FishingDerbyDeterministic-v4), EnvSpec(FishingDerbyNoFrameskip-v4), EnvSpec(FishingDerby-ram-v0), EnvSpec(FishingDerby-ramDeterministic-v0), EnvSpec(FishingDerby-ramNoFrameskip-v0), EnvSpec(FishingDerby-ram-v4), EnvSpec(FishingDerby-ramDeterministic-v4), EnvSpec(FishingDerby-ramNoFrameskip-v4), EnvSpec(Freeway-v0), EnvSpec(FreewayDeterministic-v0), EnvSpec(FreewayNoFrameskip-v0), EnvSpec(Freeway-v4), EnvSpec(FreewayDeterministic-v4), EnvSpec(FreewayNoFrameskip-v4), EnvSpec(Freeway-ram-v0), EnvSpec(Freeway-ramDeterministic-v0), EnvSpec(Freeway-ramNoFrameskip-v0), EnvSpec(Freeway-ram-v4), EnvSpec(Freeway-ramDeterministic-v4), EnvSpec(Freeway-ramNoFrameskip-v4), EnvSpec(Frostbite-v0), EnvSpec(FrostbiteDeterministic-v0), EnvSpec(FrostbiteNoFrameskip-v0), EnvSpec(Frostbite-v4), EnvSpec(FrostbiteDeterministic-v4), EnvSpec(FrostbiteNoFrameskip-v4), EnvSpec(Frostbite-ram-v0), EnvSpec(Frostbite-ramDeterministic-v0), EnvSpec(Frostbite-ramNoFrameskip-v0), EnvSpec(Frostbite-ram-v4), EnvSpec(Frostbite-ramDeterministic-v4), EnvSpec(Frostbite-ramNoFrameskip-v4), EnvSpec(Gopher-v0), EnvSpec(GopherDeterministic-v0), EnvSpec(GopherNoFrameskip-v0), EnvSpec(Gopher-v4), EnvSpec(GopherDeterministic-v4), EnvSpec(GopherNoFrameskip-v4), EnvSpec(Gopher-ram-v0), EnvSpec(Gopher-ramDeterministic-v0), EnvSpec(Gopher-ramNoFrameskip-v0), EnvSpec(Gopher-ram-v4), EnvSpec(Gopher-ramDeterministic-v4), EnvSpec(Gopher-ramNoFrameskip-v4), EnvSpec(Gravitar-v0), EnvSpec(GravitarDeterministic-v0), EnvSpec(GravitarNoFrameskip-v0), EnvSpec(Gravitar-v4), EnvSpec(GravitarDeterministic-v4), EnvSpec(GravitarNoFrameskip-v4), EnvSpec(Gravitar-ram-v0), EnvSpec(Gravitar-ramDeterministic-v0), EnvSpec(Gravitar-ramNoFrameskip-v0), EnvSpec(Gravitar-ram-v4), EnvSpec(Gravitar-ramDeterministic-v4), EnvSpec(Gravitar-ramNoFrameskip-v4), EnvSpec(Hero-v0), EnvSpec(HeroDeterministic-v0), EnvSpec(HeroNoFrameskip-v0), EnvSpec(Hero-v4), EnvSpec(HeroDeterministic-v4), EnvSpec(HeroNoFrameskip-v4), EnvSpec(Hero-ram-v0), EnvSpec(Hero-ramDeterministic-v0), EnvSpec(Hero-ramNoFrameskip-v0), EnvSpec(Hero-ram-v4), EnvSpec(Hero-ramDeterministic-v4), EnvSpec(Hero-ramNoFrameskip-v4), EnvSpec(IceHockey-v0), EnvSpec(IceHockeyDeterministic-v0), EnvSpec(IceHockeyNoFrameskip-v0), EnvSpec(IceHockey-v4), EnvSpec(IceHockeyDeterministic-v4), EnvSpec(IceHockeyNoFrameskip-v4), EnvSpec(IceHockey-ram-v0), EnvSpec(IceHockey-ramDeterministic-v0), EnvSpec(IceHockey-ramNoFrameskip-v0), EnvSpec(IceHockey-ram-v4), EnvSpec(IceHockey-ramDeterministic-v4), EnvSpec(IceHockey-ramNoFrameskip-v4), EnvSpec(Jamesbond-v0), EnvSpec(JamesbondDeterministic-v0), EnvSpec(JamesbondNoFrameskip-v0), EnvSpec(Jamesbond-v4), EnvSpec(JamesbondDeterministic-v4), EnvSpec(JamesbondNoFrameskip-v4), EnvSpec(Jamesbond-ram-v0), EnvSpec(Jamesbond-ramDeterministic-v0), EnvSpec(Jamesbond-ramNoFrameskip-v0), EnvSpec(Jamesbond-ram-v4), EnvSpec(Jamesbond-ramDeterministic-v4), EnvSpec(Jamesbond-ramNoFrameskip-v4), EnvSpec(JourneyEscape-v0), EnvSpec(JourneyEscapeDeterministic-v0), EnvSpec(JourneyEscapeNoFrameskip-v0), EnvSpec(JourneyEscape-v4), EnvSpec(JourneyEscapeDeterministic-v4), EnvSpec(JourneyEscapeNoFrameskip-v4), EnvSpec(JourneyEscape-ram-v0), EnvSpec(JourneyEscape-ramDeterministic-v0), EnvSpec(JourneyEscape-ramNoFrameskip-v0), EnvSpec(JourneyEscape-ram-v4), EnvSpec(JourneyEscape-ramDeterministic-v4), EnvSpec(JourneyEscape-ramNoFrameskip-v4), EnvSpec(Kangaroo-v0), EnvSpec(KangarooDeterministic-v0), EnvSpec(KangarooNoFrameskip-v0), EnvSpec(Kangaroo-v4), EnvSpec(KangarooDeterministic-v4), EnvSpec(KangarooNoFrameskip-v4), EnvSpec(Kangaroo-ram-v0), EnvSpec(Kangaroo-ramDeterministic-v0), EnvSpec(Kangaroo-ramNoFrameskip-v0), EnvSpec(Kangaroo-ram-v4), EnvSpec(Kangaroo-ramDeterministic-v4), EnvSpec(Kangaroo-ramNoFrameskip-v4), EnvSpec(Krull-v0), EnvSpec(KrullDeterministic-v0), EnvSpec(KrullNoFrameskip-v0), EnvSpec(Krull-v4), EnvSpec(KrullDeterministic-v4), EnvSpec(KrullNoFrameskip-v4), EnvSpec(Krull-ram-v0), EnvSpec(Krull-ramDeterministic-v0), EnvSpec(Krull-ramNoFrameskip-v0), EnvSpec(Krull-ram-v4), EnvSpec(Krull-ramDeterministic-v4), EnvSpec(Krull-ramNoFrameskip-v4), EnvSpec(KungFuMaster-v0), EnvSpec(KungFuMasterDeterministic-v0), EnvSpec(KungFuMasterNoFrameskip-v0), EnvSpec(KungFuMaster-v4), EnvSpec(KungFuMasterDeterministic-v4), EnvSpec(KungFuMasterNoFrameskip-v4), EnvSpec(KungFuMaster-ram-v0), EnvSpec(KungFuMaster-ramDeterministic-v0), EnvSpec(KungFuMaster-ramNoFrameskip-v0), EnvSpec(KungFuMaster-ram-v4), EnvSpec(KungFuMaster-ramDeterministic-v4), EnvSpec(KungFuMaster-ramNoFrameskip-v4), EnvSpec(MontezumaRevenge-v0), EnvSpec(MontezumaRevengeDeterministic-v0), EnvSpec(MontezumaRevengeNoFrameskip-v0), EnvSpec(MontezumaRevenge-v4), EnvSpec(MontezumaRevengeDeterministic-v4), EnvSpec(MontezumaRevengeNoFrameskip-v4), EnvSpec(MontezumaRevenge-ram-v0), EnvSpec(MontezumaRevenge-ramDeterministic-v0), EnvSpec(MontezumaRevenge-ramNoFrameskip-v0), EnvSpec(MontezumaRevenge-ram-v4), EnvSpec(MontezumaRevenge-ramDeterministic-v4), EnvSpec(MontezumaRevenge-ramNoFrameskip-v4), EnvSpec(MsPacman-v0), EnvSpec(MsPacmanDeterministic-v0), EnvSpec(MsPacmanNoFrameskip-v0), EnvSpec(MsPacman-v4), EnvSpec(MsPacmanDeterministic-v4), EnvSpec(MsPacmanNoFrameskip-v4), EnvSpec(MsPacman-ram-v0), EnvSpec(MsPacman-ramDeterministic-v0), EnvSpec(MsPacman-ramNoFrameskip-v0), EnvSpec(MsPacman-ram-v4), EnvSpec(MsPacman-ramDeterministic-v4), EnvSpec(MsPacman-ramNoFrameskip-v4), EnvSpec(NameThisGame-v0), EnvSpec(NameThisGameDeterministic-v0), EnvSpec(NameThisGameNoFrameskip-v0), EnvSpec(NameThisGame-v4), EnvSpec(NameThisGameDeterministic-v4), EnvSpec(NameThisGameNoFrameskip-v4), EnvSpec(NameThisGame-ram-v0), EnvSpec(NameThisGame-ramDeterministic-v0), EnvSpec(NameThisGame-ramNoFrameskip-v0), EnvSpec(NameThisGame-ram-v4), EnvSpec(NameThisGame-ramDeterministic-v4), EnvSpec(NameThisGame-ramNoFrameskip-v4), EnvSpec(Phoenix-v0), EnvSpec(PhoenixDeterministic-v0), EnvSpec(PhoenixNoFrameskip-v0), EnvSpec(Phoenix-v4), EnvSpec(PhoenixDeterministic-v4), EnvSpec(PhoenixNoFrameskip-v4), EnvSpec(Phoenix-ram-v0), EnvSpec(Phoenix-ramDeterministic-v0), EnvSpec(Phoenix-ramNoFrameskip-v0), EnvSpec(Phoenix-ram-v4), EnvSpec(Phoenix-ramDeterministic-v4), EnvSpec(Phoenix-ramNoFrameskip-v4), EnvSpec(Pitfall-v0), EnvSpec(PitfallDeterministic-v0), EnvSpec(PitfallNoFrameskip-v0), EnvSpec(Pitfall-v4), EnvSpec(PitfallDeterministic-v4), EnvSpec(PitfallNoFrameskip-v4), EnvSpec(Pitfall-ram-v0), EnvSpec(Pitfall-ramDeterministic-v0), EnvSpec(Pitfall-ramNoFrameskip-v0), EnvSpec(Pitfall-ram-v4), EnvSpec(Pitfall-ramDeterministic-v4), EnvSpec(Pitfall-ramNoFrameskip-v4), EnvSpec(Pong-v0), EnvSpec(PongDeterministic-v0), EnvSpec(PongNoFrameskip-v0), EnvSpec(Pong-v4), EnvSpec(PongDeterministic-v4), EnvSpec(PongNoFrameskip-v4), EnvSpec(Pong-ram-v0), EnvSpec(Pong-ramDeterministic-v0), EnvSpec(Pong-ramNoFrameskip-v0), EnvSpec(Pong-ram-v4), EnvSpec(Pong-ramDeterministic-v4), EnvSpec(Pong-ramNoFrameskip-v4), EnvSpec(Pooyan-v0), EnvSpec(PooyanDeterministic-v0), EnvSpec(PooyanNoFrameskip-v0), EnvSpec(Pooyan-v4), EnvSpec(PooyanDeterministic-v4), EnvSpec(PooyanNoFrameskip-v4), EnvSpec(Pooyan-ram-v0), EnvSpec(Pooyan-ramDeterministic-v0), EnvSpec(Pooyan-ramNoFrameskip-v0), EnvSpec(Pooyan-ram-v4), EnvSpec(Pooyan-ramDeterministic-v4), EnvSpec(Pooyan-ramNoFrameskip-v4), EnvSpec(PrivateEye-v0), EnvSpec(PrivateEyeDeterministic-v0), EnvSpec(PrivateEyeNoFrameskip-v0), EnvSpec(PrivateEye-v4), EnvSpec(PrivateEyeDeterministic-v4), EnvSpec(PrivateEyeNoFrameskip-v4), EnvSpec(PrivateEye-ram-v0), EnvSpec(PrivateEye-ramDeterministic-v0), EnvSpec(PrivateEye-ramNoFrameskip-v0), EnvSpec(PrivateEye-ram-v4), EnvSpec(PrivateEye-ramDeterministic-v4), EnvSpec(PrivateEye-ramNoFrameskip-v4), EnvSpec(Qbert-v0), EnvSpec(QbertDeterministic-v0), EnvSpec(QbertNoFrameskip-v0), EnvSpec(Qbert-v4), EnvSpec(QbertDeterministic-v4), EnvSpec(QbertNoFrameskip-v4), EnvSpec(Qbert-ram-v0), EnvSpec(Qbert-ramDeterministic-v0), EnvSpec(Qbert-ramNoFrameskip-v0), EnvSpec(Qbert-ram-v4), EnvSpec(Qbert-ramDeterministic-v4), EnvSpec(Qbert-ramNoFrameskip-v4), EnvSpec(Riverraid-v0), EnvSpec(RiverraidDeterministic-v0), EnvSpec(RiverraidNoFrameskip-v0), EnvSpec(Riverraid-v4), EnvSpec(RiverraidDeterministic-v4), EnvSpec(RiverraidNoFrameskip-v4), EnvSpec(Riverraid-ram-v0), EnvSpec(Riverraid-ramDeterministic-v0), EnvSpec(Riverraid-ramNoFrameskip-v0), EnvSpec(Riverraid-ram-v4), EnvSpec(Riverraid-ramDeterministic-v4), EnvSpec(Riverraid-ramNoFrameskip-v4), EnvSpec(RoadRunner-v0), EnvSpec(RoadRunnerDeterministic-v0), EnvSpec(RoadRunnerNoFrameskip-v0), EnvSpec(RoadRunner-v4), EnvSpec(RoadRunnerDeterministic-v4), EnvSpec(RoadRunnerNoFrameskip-v4), EnvSpec(RoadRunner-ram-v0), EnvSpec(RoadRunner-ramDeterministic-v0), EnvSpec(RoadRunner-ramNoFrameskip-v0), EnvSpec(RoadRunner-ram-v4), EnvSpec(RoadRunner-ramDeterministic-v4), EnvSpec(RoadRunner-ramNoFrameskip-v4), EnvSpec(Robotank-v0), EnvSpec(RobotankDeterministic-v0), EnvSpec(RobotankNoFrameskip-v0), EnvSpec(Robotank-v4), EnvSpec(RobotankDeterministic-v4), EnvSpec(RobotankNoFrameskip-v4), EnvSpec(Robotank-ram-v0), EnvSpec(Robotank-ramDeterministic-v0), EnvSpec(Robotank-ramNoFrameskip-v0), EnvSpec(Robotank-ram-v4), EnvSpec(Robotank-ramDeterministic-v4), EnvSpec(Robotank-ramNoFrameskip-v4), EnvSpec(Seaquest-v0), EnvSpec(SeaquestDeterministic-v0), EnvSpec(SeaquestNoFrameskip-v0), EnvSpec(Seaquest-v4), EnvSpec(SeaquestDeterministic-v4), EnvSpec(SeaquestNoFrameskip-v4), EnvSpec(Seaquest-ram-v0), EnvSpec(Seaquest-ramDeterministic-v0), EnvSpec(Seaquest-ramNoFrameskip-v0), EnvSpec(Seaquest-ram-v4), EnvSpec(Seaquest-ramDeterministic-v4), EnvSpec(Seaquest-ramNoFrameskip-v4), EnvSpec(Skiing-v0), EnvSpec(SkiingDeterministic-v0), EnvSpec(SkiingNoFrameskip-v0), EnvSpec(Skiing-v4), EnvSpec(SkiingDeterministic-v4), EnvSpec(SkiingNoFrameskip-v4), EnvSpec(Skiing-ram-v0), EnvSpec(Skiing-ramDeterministic-v0), EnvSpec(Skiing-ramNoFrameskip-v0), EnvSpec(Skiing-ram-v4), EnvSpec(Skiing-ramDeterministic-v4), EnvSpec(Skiing-ramNoFrameskip-v4), EnvSpec(Solaris-v0), EnvSpec(SolarisDeterministic-v0), EnvSpec(SolarisNoFrameskip-v0), EnvSpec(Solaris-v4), EnvSpec(SolarisDeterministic-v4), EnvSpec(SolarisNoFrameskip-v4), EnvSpec(Solaris-ram-v0), EnvSpec(Solaris-ramDeterministic-v0), EnvSpec(Solaris-ramNoFrameskip-v0), EnvSpec(Solaris-ram-v4), EnvSpec(Solaris-ramDeterministic-v4), EnvSpec(Solaris-ramNoFrameskip-v4), EnvSpec(SpaceInvaders-v0), EnvSpec(SpaceInvadersDeterministic-v0), EnvSpec(SpaceInvadersNoFrameskip-v0), EnvSpec(SpaceInvaders-v4), EnvSpec(SpaceInvadersDeterministic-v4), EnvSpec(SpaceInvadersNoFrameskip-v4), EnvSpec(SpaceInvaders-ram-v0), EnvSpec(SpaceInvaders-ramDeterministic-v0), EnvSpec(SpaceInvaders-ramNoFrameskip-v0), EnvSpec(SpaceInvaders-ram-v4), EnvSpec(SpaceInvaders-ramDeterministic-v4), EnvSpec(SpaceInvaders-ramNoFrameskip-v4), EnvSpec(StarGunner-v0), EnvSpec(StarGunnerDeterministic-v0), EnvSpec(StarGunnerNoFrameskip-v0), EnvSpec(StarGunner-v4), EnvSpec(StarGunnerDeterministic-v4), EnvSpec(StarGunnerNoFrameskip-v4), EnvSpec(StarGunner-ram-v0), EnvSpec(StarGunner-ramDeterministic-v0), EnvSpec(StarGunner-ramNoFrameskip-v0), EnvSpec(StarGunner-ram-v4), EnvSpec(StarGunner-ramDeterministic-v4), EnvSpec(StarGunner-ramNoFrameskip-v4), EnvSpec(Tennis-v0), EnvSpec(TennisDeterministic-v0), EnvSpec(TennisNoFrameskip-v0), EnvSpec(Tennis-v4), EnvSpec(TennisDeterministic-v4), EnvSpec(TennisNoFrameskip-v4), EnvSpec(Tennis-ram-v0), EnvSpec(Tennis-ramDeterministic-v0), EnvSpec(Tennis-ramNoFrameskip-v0), EnvSpec(Tennis-ram-v4), EnvSpec(Tennis-ramDeterministic-v4), EnvSpec(Tennis-ramNoFrameskip-v4), EnvSpec(TimePilot-v0), EnvSpec(TimePilotDeterministic-v0), EnvSpec(TimePilotNoFrameskip-v0), EnvSpec(TimePilot-v4), EnvSpec(TimePilotDeterministic-v4), EnvSpec(TimePilotNoFrameskip-v4), EnvSpec(TimePilot-ram-v0), EnvSpec(TimePilot-ramDeterministic-v0), EnvSpec(TimePilot-ramNoFrameskip-v0), EnvSpec(TimePilot-ram-v4), EnvSpec(TimePilot-ramDeterministic-v4), EnvSpec(TimePilot-ramNoFrameskip-v4), EnvSpec(Tutankham-v0), EnvSpec(TutankhamDeterministic-v0), EnvSpec(TutankhamNoFrameskip-v0), EnvSpec(Tutankham-v4), EnvSpec(TutankhamDeterministic-v4), EnvSpec(TutankhamNoFrameskip-v4), EnvSpec(Tutankham-ram-v0), EnvSpec(Tutankham-ramDeterministic-v0), EnvSpec(Tutankham-ramNoFrameskip-v0), EnvSpec(Tutankham-ram-v4), EnvSpec(Tutankham-ramDeterministic-v4), EnvSpec(Tutankham-ramNoFrameskip-v4), EnvSpec(UpNDown-v0), EnvSpec(UpNDownDeterministic-v0), EnvSpec(UpNDownNoFrameskip-v0), EnvSpec(UpNDown-v4), EnvSpec(UpNDownDeterministic-v4), EnvSpec(UpNDownNoFrameskip-v4), EnvSpec(UpNDown-ram-v0), EnvSpec(UpNDown-ramDeterministic-v0), EnvSpec(UpNDown-ramNoFrameskip-v0), EnvSpec(UpNDown-ram-v4), EnvSpec(UpNDown-ramDeterministic-v4), EnvSpec(UpNDown-ramNoFrameskip-v4), EnvSpec(Venture-v0), EnvSpec(VentureDeterministic-v0), EnvSpec(VentureNoFrameskip-v0), EnvSpec(Venture-v4), EnvSpec(VentureDeterministic-v4), EnvSpec(VentureNoFrameskip-v4), EnvSpec(Venture-ram-v0), EnvSpec(Venture-ramDeterministic-v0), EnvSpec(Venture-ramNoFrameskip-v0), EnvSpec(Venture-ram-v4), EnvSpec(Venture-ramDeterministic-v4), EnvSpec(Venture-ramNoFrameskip-v4), EnvSpec(VideoPinball-v0), EnvSpec(VideoPinballDeterministic-v0), EnvSpec(VideoPinballNoFrameskip-v0), EnvSpec(VideoPinball-v4), EnvSpec(VideoPinballDeterministic-v4), EnvSpec(VideoPinballNoFrameskip-v4), EnvSpec(VideoPinball-ram-v0), EnvSpec(VideoPinball-ramDeterministic-v0), EnvSpec(VideoPinball-ramNoFrameskip-v0), EnvSpec(VideoPinball-ram-v4), EnvSpec(VideoPinball-ramDeterministic-v4), EnvSpec(VideoPinball-ramNoFrameskip-v4), EnvSpec(WizardOfWor-v0), EnvSpec(WizardOfWorDeterministic-v0), EnvSpec(WizardOfWorNoFrameskip-v0), EnvSpec(WizardOfWor-v4), EnvSpec(WizardOfWorDeterministic-v4), EnvSpec(WizardOfWorNoFrameskip-v4), EnvSpec(WizardOfWor-ram-v0), EnvSpec(WizardOfWor-ramDeterministic-v0), EnvSpec(WizardOfWor-ramNoFrameskip-v0), EnvSpec(WizardOfWor-ram-v4), EnvSpec(WizardOfWor-ramDeterministic-v4), EnvSpec(WizardOfWor-ramNoFrameskip-v4), EnvSpec(YarsRevenge-v0), EnvSpec(YarsRevengeDeterministic-v0), EnvSpec(YarsRevengeNoFrameskip-v0), EnvSpec(YarsRevenge-v4), EnvSpec(YarsRevengeDeterministic-v4), EnvSpec(YarsRevengeNoFrameskip-v4), EnvSpec(YarsRevenge-ram-v0), EnvSpec(YarsRevenge-ramDeterministic-v0), EnvSpec(YarsRevenge-ramNoFrameskip-v0), EnvSpec(YarsRevenge-ram-v4), EnvSpec(YarsRevenge-ramDeterministic-v4), EnvSpec(YarsRevenge-ramNoFrameskip-v4), EnvSpec(Zaxxon-v0), EnvSpec(ZaxxonDeterministic-v0), EnvSpec(ZaxxonNoFrameskip-v0), EnvSpec(Zaxxon-v4), EnvSpec(ZaxxonDeterministic-v4), EnvSpec(ZaxxonNoFrameskip-v4), EnvSpec(Zaxxon-ram-v0), EnvSpec(Zaxxon-ramDeterministic-v0), EnvSpec(Zaxxon-ramNoFrameskip-v0), EnvSpec(Zaxxon-ram-v4), EnvSpec(Zaxxon-ramDeterministic-v4), EnvSpec(Zaxxon-ramNoFrameskip-v4), EnvSpec(CartPole-v0), EnvSpec(CartPole-v1), EnvSpec(MountainCar-v0), EnvSpec(MountainCarContinuous-v0), EnvSpec(Pendulum-v1), EnvSpec(Acrobot-v1), EnvSpec(LunarLander-v2), EnvSpec(LunarLanderContinuous-v2), EnvSpec(BipedalWalker-v3), EnvSpec(BipedalWalkerHardcore-v3), EnvSpec(CarRacing-v0), EnvSpec(Blackjack-v1), EnvSpec(FrozenLake-v1), EnvSpec(FrozenLake8x8-v1), EnvSpec(CliffWalking-v0), EnvSpec(Taxi-v3), EnvSpec(Reacher-v2), EnvSpec(Pusher-v2), EnvSpec(Thrower-v2), EnvSpec(Striker-v2), EnvSpec(InvertedPendulum-v2), EnvSpec(InvertedDoublePendulum-v2), EnvSpec(HalfCheetah-v2), EnvSpec(HalfCheetah-v3), EnvSpec(Hopper-v2), EnvSpec(Hopper-v3), EnvSpec(Swimmer-v2), EnvSpec(Swimmer-v3), EnvSpec(Walker2d-v2), EnvSpec(Walker2d-v3), EnvSpec(Ant-v2), EnvSpec(Ant-v3), EnvSpec(Humanoid-v2), EnvSpec(Humanoid-v3), EnvSpec(HumanoidStandup-v2), EnvSpec(FetchSlide-v1), EnvSpec(FetchPickAndPlace-v1), EnvSpec(FetchReach-v1), EnvSpec(FetchPush-v1), EnvSpec(HandReach-v0), EnvSpec(HandManipulateBlockRotateZ-v0), EnvSpec(HandManipulateBlockRotateZTouchSensors-v0), EnvSpec(HandManipulateBlockRotateZTouchSensors-v1), EnvSpec(HandManipulateBlockRotateParallel-v0), EnvSpec(HandManipulateBlockRotateParallelTouchSensors-v0), EnvSpec(HandManipulateBlockRotateParallelTouchSensors-v1), EnvSpec(HandManipulateBlockRotateXYZ-v0), EnvSpec(HandManipulateBlockRotateXYZTouchSensors-v0), EnvSpec(HandManipulateBlockRotateXYZTouchSensors-v1), EnvSpec(HandManipulateBlockFull-v0), EnvSpec(HandManipulateBlock-v0), EnvSpec(HandManipulateBlockTouchSensors-v0), EnvSpec(HandManipulateBlockTouchSensors-v1), EnvSpec(HandManipulateEggRotate-v0), EnvSpec(HandManipulateEggRotateTouchSensors-v0), EnvSpec(HandManipulateEggRotateTouchSensors-v1), EnvSpec(HandManipulateEggFull-v0), EnvSpec(HandManipulateEgg-v0), EnvSpec(HandManipulateEggTouchSensors-v0), EnvSpec(HandManipulateEggTouchSensors-v1), EnvSpec(HandManipulatePenRotate-v0), EnvSpec(HandManipulatePenRotateTouchSensors-v0), EnvSpec(HandManipulatePenRotateTouchSensors-v1), EnvSpec(HandManipulatePenFull-v0), EnvSpec(HandManipulatePen-v0), EnvSpec(HandManipulatePenTouchSensors-v0), EnvSpec(HandManipulatePenTouchSensors-v1), EnvSpec(FetchSlideDense-v1), EnvSpec(FetchPickAndPlaceDense-v1), EnvSpec(FetchReachDense-v1), EnvSpec(FetchPushDense-v1), EnvSpec(HandReachDense-v0), EnvSpec(HandManipulateBlockRotateZDense-v0), EnvSpec(HandManipulateBlockRotateZTouchSensorsDense-v0), EnvSpec(HandManipulateBlockRotateZTouchSensorsDense-v1), EnvSpec(HandManipulateBlockRotateParallelDense-v0), EnvSpec(HandManipulateBlockRotateParallelTouchSensorsDense-v0), EnvSpec(HandManipulateBlockRotateParallelTouchSensorsDense-v1), EnvSpec(HandManipulateBlockRotateXYZDense-v0), EnvSpec(HandManipulateBlockRotateXYZTouchSensorsDense-v0), EnvSpec(HandManipulateBlockRotateXYZTouchSensorsDense-v1), EnvSpec(HandManipulateBlockFullDense-v0), EnvSpec(HandManipulateBlockDense-v0), EnvSpec(HandManipulateBlockTouchSensorsDense-v0), EnvSpec(HandManipulateBlockTouchSensorsDense-v1), EnvSpec(HandManipulateEggRotateDense-v0), EnvSpec(HandManipulateEggRotateTouchSensorsDense-v0), EnvSpec(HandManipulateEggRotateTouchSensorsDense-v1), EnvSpec(HandManipulateEggFullDense-v0), EnvSpec(HandManipulateEggDense-v0), EnvSpec(HandManipulateEggTouchSensorsDense-v0), EnvSpec(HandManipulateEggTouchSensorsDense-v1), EnvSpec(HandManipulatePenRotateDense-v0), EnvSpec(HandManipulatePenRotateTouchSensorsDense-v0), EnvSpec(HandManipulatePenRotateTouchSensorsDense-v1), EnvSpec(HandManipulatePenFullDense-v0), EnvSpec(HandManipulatePenDense-v0), EnvSpec(HandManipulatePenTouchSensorsDense-v0), EnvSpec(HandManipulatePenTouchSensorsDense-v1), EnvSpec(CubeCrash-v0), EnvSpec(CubeCrashSparse-v0), EnvSpec(CubeCrashScreenBecomesBlack-v0), EnvSpec(MemorizeDigits-v0)])\n"
     ]
    }
   ],
   "source": [
    "# list available environments\n",
    "print(gym.envs.registry.all())"
   ]
  },
  {
   "cell_type": "code",
   "execution_count": 9,
   "id": "7d604e99",
   "metadata": {},
   "outputs": [],
   "source": [
    "# Set up a virtual display for rendering OpenAI gym environments.\n",
    "display = pyvirtualdisplay.Display(visible=0, size=(1400, 900)).start()\n",
    "     "
   ]
  },
  {
   "cell_type": "code",
   "execution_count": 10,
   "id": "4f0fb51b",
   "metadata": {},
   "outputs": [],
   "source": [
    "def embed_mp4(filename):\n",
    "  \"\"\"Embeds an mp4 file in the notebook.\"\"\"\n",
    "  video = open(filename,'rb').read()\n",
    "  b64 = base64.b64encode(video)\n",
    "  tag = '''\n",
    "  '''.format(b64.decode())\n",
    "\n",
    "  return IPython.display.HTML(tag)\n",
    "\n",
    "def create_policy_eval_video(policy, filename, num_episodes=5, fps=30, max_steps=-1):\n",
    "  filename = filename + \".mp4\"\n",
    "  with imageio.get_writer(filename, fps=fps) as video:\n",
    "    for _ in range(num_episodes):\n",
    "      time_step = eval_env.reset()\n",
    "      video.append_data(eval_py_env.render())\n",
    "      n_step = 0\n",
    "      while not time_step.is_last():\n",
    "        action_step = policy.action(time_step)\n",
    "        time_step = eval_env.step(action_step.action)\n",
    "        video.append_data(eval_py_env.render())\n",
    "        n_step += 1\n",
    "        if (n_step > max_steps) & (max_steps > 0):\n",
    "          break\n",
    "  return embed_mp4(filename)"
   ]
  },
  {
   "cell_type": "code",
   "execution_count": 11,
   "id": "93362421",
   "metadata": {},
   "outputs": [
    {
     "name": "stderr",
     "output_type": "stream",
     "text": [
      "A.L.E: Arcade Learning Environment (version 0.7.5+db37282)\n",
      "[Powered by Stella]\n"
     ]
    }
   ],
   "source": [
    "#env_name = 'BreakoutNoFrameskip-v4'\n",
    "env_name = 'SpaceInvaders-v0'\n",
    "env = suite_gym.load(env_name)"
   ]
  },
  {
   "cell_type": "code",
   "execution_count": 12,
   "id": "afbdd335",
   "metadata": {},
   "outputs": [
    {
     "data": {
      "image/png": "[encoded data removed]",
      "text/plain": [
       "<PIL.Image.Image image mode=RGB size=160x210>"
      ]
     },
     "execution_count": 12,
     "metadata": {},
     "output_type": "execute_result"
    }
   ],
   "source": [
    "\n",
    "env.reset()\n",
    "PIL.Image.fromarray(env.render())\n",
    "     "
   ]
  },
  {
   "cell_type": "code",
   "execution_count": 13,
   "id": "f42b2b59",
   "metadata": {},
   "outputs": [
    {
     "name": "stdout",
     "output_type": "stream",
     "text": [
      "Observation Spec:\n",
      "BoundedArraySpec(shape=(210, 160, 3), dtype=dtype('uint8'), name='observation', minimum=0, maximum=255)\n"
     ]
    }
   ],
   "source": [
    "print('Observation Spec:')\n",
    "print(env.time_step_spec().observation)\n",
    "     "
   ]
  },
  {
   "cell_type": "code",
   "execution_count": 14,
   "id": "7853f81e",
   "metadata": {},
   "outputs": [
    {
     "name": "stdout",
     "output_type": "stream",
     "text": [
      "Reward Spec:\n",
      "ArraySpec(shape=(), dtype=dtype('float32'), name='reward')\n"
     ]
    }
   ],
   "source": [
    "print('Reward Spec:')\n",
    "print(env.time_step_spec().reward)"
   ]
  },
  {
   "cell_type": "code",
   "execution_count": 15,
   "id": "bf9e8f3d",
   "metadata": {},
   "outputs": [
    {
     "name": "stdout",
     "output_type": "stream",
     "text": [
      "Action Spec:\n",
      "BoundedArraySpec(shape=(), dtype=dtype('int64'), name='action', minimum=0, maximum=5)\n"
     ]
    }
   ],
   "source": [
    "print('Action Spec:')\n",
    "print(env.action_spec())"
   ]
  },
  {
   "cell_type": "code",
   "execution_count": 16,
   "id": "d56efed3",
   "metadata": {},
   "outputs": [
    {
     "data": {
      "text/plain": [
       "['NOOP', 'FIRE', 'RIGHT', 'LEFT', 'RIGHTFIRE', 'LEFTFIRE']"
      ]
     },
     "execution_count": 16,
     "metadata": {},
     "output_type": "execute_result"
    }
   ],
   "source": [
    "env.unwrapped.get_action_meanings()"
   ]
  },
  {
   "cell_type": "code",
   "execution_count": 17,
   "id": "01a5db64",
   "metadata": {},
   "outputs": [
    {
     "name": "stdout",
     "output_type": "stream",
     "text": [
      "Time step:\n",
      "(210, 160, 3)\n",
      "Next time step:\n",
      "(210, 160, 3)\n"
     ]
    }
   ],
   "source": [
    "time_step = env.reset()\n",
    "print('Time step:')\n",
    "print(time_step.observation.shape)\n",
    "\n",
    "action = np.array(1, dtype=np.int32)\n",
    "\n",
    "next_time_step = env.step(action)\n",
    "print('Next time step:')\n",
    "print(next_time_step.observation.shape)"
   ]
  },
  {
   "cell_type": "code",
   "execution_count": 18,
   "id": "51ba240d",
   "metadata": {},
   "outputs": [],
   "source": [
    "ATARI_FRAME_SKIP = 4\n",
    "max_episode_frames = ATARI_FRAME_SKIP * 50_000\n",
    "\n",
    "train_py_env = suite_atari.load(\n",
    "    env_name,\n",
    "    max_episode_steps=max_episode_frames / ATARI_FRAME_SKIP,\n",
    "    gym_env_wrappers=suite_atari.DEFAULT_ATARI_GYM_WRAPPERS_WITH_STACKING)\n",
    "eval_py_env = suite_atari.load(\n",
    "    env_name,\n",
    "    max_episode_steps=max_episode_frames / ATARI_FRAME_SKIP,\n",
    "    gym_env_wrappers=suite_atari.DEFAULT_ATARI_GYM_WRAPPERS_WITH_STACKING)\n",
    "\n",
    "train_env = tf_py_environment.TFPyEnvironment(train_py_env)\n",
    "eval_env = tf_py_environment.TFPyEnvironment(eval_py_env)"
   ]
  },
  {
   "cell_type": "code",
   "execution_count": 19,
   "id": "c0844726",
   "metadata": {},
   "outputs": [],
   "source": [
    "\n",
    "random_policy = random_tf_policy.RandomTFPolicy(train_env.time_step_spec(), train_env.action_spec())\n",
    "  "
   ]
  },
  {
   "cell_type": "code",
   "execution_count": 20,
   "id": "43ddb033",
   "metadata": {},
   "outputs": [
    {
     "name": "stdout",
     "output_type": "stream",
     "text": [
      "\u001b[33mWARNING: Ignoring invalid distribution -ensorflow-probability (/opt/conda/lib/python3.7/site-packages)\u001b[0m\u001b[33m\n",
      "\u001b[0m\u001b[33mWARNING: Ignoring invalid distribution -ensorflow-probability (/opt/conda/lib/python3.7/site-packages)\u001b[0m\u001b[33m\n",
      "\u001b[0mRequirement already satisfied: imageio[ffmpeg] in /opt/conda/lib/python3.7/site-packages (2.22.2)\n",
      "Requirement already satisfied: numpy in /opt/conda/lib/python3.7/site-packages (from imageio[ffmpeg]) (1.21.6)\n",
      "Requirement already satisfied: pillow>=8.3.2 in /opt/conda/lib/python3.7/site-packages (from imageio[ffmpeg]) (9.2.0)\n",
      "Requirement already satisfied: psutil in /opt/conda/lib/python3.7/site-packages (from imageio[ffmpeg]) (5.9.3)\n",
      "Collecting imageio-ffmpeg\n",
      "  Downloading imageio_ffmpeg-0.4.7-py3-none-manylinux2010_x86_64.whl (26.9 MB)\n",
      "\u001b[2K     \u001b[90m━━━━━━━━━━━━━━━━━━━━━━━━━━━━━━━━━━━━━━━━\u001b[0m \u001b[32m26.9/26.9 MB\u001b[0m \u001b[31m30.5 MB/s\u001b[0m eta \u001b[36m0:00:00\u001b[0m00:01\u001b[0m00:01\u001b[0m\n",
      "\u001b[?25h\u001b[33mWARNING: Ignoring invalid distribution -ensorflow-probability (/opt/conda/lib/python3.7/site-packages)\u001b[0m\u001b[33m\n",
      "\u001b[0mInstalling collected packages: imageio-ffmpeg\n",
      "\u001b[33mWARNING: Ignoring invalid distribution -ensorflow-probability (/opt/conda/lib/python3.7/site-packages)\u001b[0m\u001b[33m\n",
      "\u001b[0mSuccessfully installed imageio-ffmpeg-0.4.7\n",
      "\u001b[33mWARNING: Ignoring invalid distribution -ensorflow-probability (/opt/conda/lib/python3.7/site-packages)\u001b[0m\u001b[33m\n",
      "\u001b[0m\u001b[33mWARNING: Ignoring invalid distribution -ensorflow-probability (/opt/conda/lib/python3.7/site-packages)\u001b[0m\u001b[33m\n",
      "\u001b[0m\u001b[33mWARNING: Ignoring invalid distribution -ensorflow-probability (/opt/conda/lib/python3.7/site-packages)\u001b[0m\u001b[33m\n",
      "\u001b[0m\u001b[33mWARNING: Ignoring invalid distribution -ensorflow-probability (/opt/conda/lib/python3.7/site-packages)\u001b[0m\u001b[33m\n",
      "\u001b[0m\u001b[33mWARNING: Ignoring invalid distribution -ensorflow-probability (/opt/conda/lib/python3.7/site-packages)\u001b[0m\u001b[33m\n",
      "\u001b[0mRequirement already satisfied: imageio[pyav] in /opt/conda/lib/python3.7/site-packages (2.22.2)\n",
      "Requirement already satisfied: pillow>=8.3.2 in /opt/conda/lib/python3.7/site-packages (from imageio[pyav]) (9.2.0)\n",
      "Requirement already satisfied: numpy in /opt/conda/lib/python3.7/site-packages (from imageio[pyav]) (1.21.6)\n",
      "Collecting av\n",
      "  Downloading av-10.0.0-cp37-cp37m-manylinux_2_17_x86_64.manylinux2014_x86_64.whl (30.7 MB)\n",
      "\u001b[2K     \u001b[90m━━━━━━━━━━━━━━━━━━━━━━━━━━━━━━━━━━━━━━━━\u001b[0m \u001b[32m30.7/30.7 MB\u001b[0m \u001b[31m25.9 MB/s\u001b[0m eta \u001b[36m0:00:00\u001b[0m00:01\u001b[0m00:01\u001b[0m\n",
      "\u001b[?25h\u001b[33mWARNING: Ignoring invalid distribution -ensorflow-probability (/opt/conda/lib/python3.7/site-packages)\u001b[0m\u001b[33m\n",
      "\u001b[0mInstalling collected packages: av\n",
      "\u001b[33mWARNING: Ignoring invalid distribution -ensorflow-probability (/opt/conda/lib/python3.7/site-packages)\u001b[0m\u001b[33m\n",
      "\u001b[0mSuccessfully installed av-10.0.0\n",
      "\u001b[33mWARNING: Ignoring invalid distribution -ensorflow-probability (/opt/conda/lib/python3.7/site-packages)\u001b[0m\u001b[33m\n",
      "\u001b[0m\u001b[33mWARNING: Ignoring invalid distribution -ensorflow-probability (/opt/conda/lib/python3.7/site-packages)\u001b[0m\u001b[33m\n",
      "\u001b[0m\u001b[33mWARNING: Ignoring invalid distribution -ensorflow-probability (/opt/conda/lib/python3.7/site-packages)\u001b[0m\u001b[33m\n",
      "\u001b[0m"
     ]
    }
   ],
   "source": [
    "!pip install imageio[ffmpeg]\n",
    "!pip install imageio[pyav]"
   ]
  },
  {
   "cell_type": "code",
   "execution_count": 20,
   "id": "9f727340",
   "metadata": {},
   "outputs": [
    {
     "name": "stderr",
     "output_type": "stream",
     "text": [
      "2022-12-04 23:38:44.165198: I tensorflow/stream_executor/cuda/cuda_gpu_executor.cc:980] successful NUMA node read from SysFS had negative value (-1), but there must be at least one NUMA node, so returning NUMA node zero\n",
      "2022-12-04 23:38:44.290733: I tensorflow/stream_executor/cuda/cuda_gpu_executor.cc:980] successful NUMA node read from SysFS had negative value (-1), but there must be at least one NUMA node, so returning NUMA node zero\n",
      "2022-12-04 23:38:44.292493: I tensorflow/stream_executor/cuda/cuda_gpu_executor.cc:980] successful NUMA node read from SysFS had negative value (-1), but there must be at least one NUMA node, so returning NUMA node zero\n",
      "2022-12-04 23:38:44.299113: I tensorflow/core/platform/cpu_feature_guard.cc:193] This TensorFlow binary is optimized with oneAPI Deep Neural Network Library (oneDNN) to use the following CPU instructions in performance-critical operations:  AVX2 FMA\n",
      "To enable them in other operations, rebuild TensorFlow with the appropriate compiler flags.\n",
      "2022-12-04 23:38:44.299338: I tensorflow/stream_executor/cuda/cuda_gpu_executor.cc:980] successful NUMA node read from SysFS had negative value (-1), but there must be at least one NUMA node, so returning NUMA node zero\n",
      "2022-12-04 23:38:44.301023: I tensorflow/stream_executor/cuda/cuda_gpu_executor.cc:980] successful NUMA node read from SysFS had negative value (-1), but there must be at least one NUMA node, so returning NUMA node zero\n",
      "2022-12-04 23:38:44.302625: I tensorflow/stream_executor/cuda/cuda_gpu_executor.cc:980] successful NUMA node read from SysFS had negative value (-1), but there must be at least one NUMA node, so returning NUMA node zero\n",
      "2022-12-04 23:38:46.209671: I tensorflow/stream_executor/cuda/cuda_gpu_executor.cc:980] successful NUMA node read from SysFS had negative value (-1), but there must be at least one NUMA node, so returning NUMA node zero\n",
      "2022-12-04 23:38:46.216653: I tensorflow/stream_executor/cuda/cuda_gpu_executor.cc:980] successful NUMA node read from SysFS had negative value (-1), but there must be at least one NUMA node, so returning NUMA node zero\n",
      "2022-12-04 23:38:46.218293: I tensorflow/stream_executor/cuda/cuda_gpu_executor.cc:980] successful NUMA node read from SysFS had negative value (-1), but there must be at least one NUMA node, so returning NUMA node zero\n",
      "2022-12-04 23:38:46.219902: I tensorflow/core/common_runtime/gpu/gpu_device.cc:1616] Created device /job:localhost/replica:0/task:0/device:GPU:0 with 13584 MB memory:  -> device: 0, name: Tesla T4, pci bus id: 0000:00:04.0, compute capability: 7.5\n",
      "IMAGEIO FFMPEG_WRITER WARNING: input image is not divisible by macro_block_size=16, resizing from (160, 210) to (160, 224) to ensure video compatibility with most codecs and players. To prevent resizing, make your input image divisible by the macro_block_size or set the macro_block_size to 1 (risking incompatibility).\n"
     ]
    },
    {
     "data": {
      "text/html": [
       "\n",
       "  "
      ],
      "text/plain": [
       "<IPython.core.display.HTML object>"
      ]
     },
     "execution_count": 20,
     "metadata": {},
     "output_type": "execute_result"
    }
   ],
   "source": [
    "\n",
    "create_policy_eval_video(random_policy, \"random-agent\", num_episodes=1)\n",
    "     "
   ]
  },
  {
   "cell_type": "code",
   "execution_count": 21,
   "id": "659e592a",
   "metadata": {},
   "outputs": [
    {
     "data": {
      "text/plain": [
       "(84, 84, 4)"
      ]
     },
     "execution_count": 21,
     "metadata": {},
     "output_type": "execute_result"
    }
   ],
   "source": [
    "train_py_env.observation_spec().shape     "
   ]
  },
  {
   "cell_type": "code",
   "execution_count": 22,
   "id": "58f6c5a2",
   "metadata": {},
   "outputs": [],
   "source": [
    "# https://keras.io/examples/rl/deep_q_network_breakout/\n",
    "# Define a Q network with three convolutional layers and a fully connected layer\n",
    "action_tensor_spec = tensor_spec.from_spec(train_env.action_spec())\n",
    "num_actions = action_tensor_spec.maximum - action_tensor_spec.minimum + 1\n",
    "observation_spec = tensor_spec.from_spec(train_env.observation_spec())    # (84, 84, 4) four gray frames stacking       \n",
    "\n",
    "# preprocessing from uint8 color code between 0 and 255 to a float32 between 0 and 1.\n",
    "layer0 = tf.keras.layers.Lambda(lambda obs: tf.cast(obs, np.float32) / 255.)\n",
    "layer1 = tf.keras.layers.Conv2D(filters=32, kernel_size=(8, 8), strides = (4, 4), activation='relu')\n",
    "layer2 = tf.keras.layers.Conv2D(filters=64, kernel_size=(4, 4), strides = (2, 2), activation='relu')\n",
    "layer3 = tf.keras.layers.Conv2D(filters=64, kernel_size=(3, 3), strides = (1, 1), activation='relu')\n",
    "layer4 = tf.keras.layers.Flatten()\n",
    "layer5 = tf.keras.layers.Dense(512, activation='relu')\n",
    "layer6 = tf.keras.layers.Dense(num_actions, activation='linear') # action layer\n",
    "\n",
    "q_net = sequential.Sequential([layer0, layer1, layer2, layer3, layer4, layer5, layer6])\n",
    "     "
   ]
  },
  {
   "cell_type": "code",
   "execution_count": 23,
   "id": "9e07d087",
   "metadata": {},
   "outputs": [
    {
     "name": "stdout",
     "output_type": "stream",
     "text": [
      "Model: \"sequential\"\n",
      "_________________________________________________________________\n",
      "Layer (type)                 Output Shape              Param #   \n",
      "=================================================================\n",
      "lambda (Lambda)              multiple                  0 (unused)\n",
      "_________________________________________________________________\n",
      "conv2d (Conv2D)              multiple                  0 (unused)\n",
      "_________________________________________________________________\n",
      "conv2d_1 (Conv2D)            multiple                  0 (unused)\n",
      "_________________________________________________________________\n",
      "conv2d_2 (Conv2D)            multiple                  0 (unused)\n",
      "_________________________________________________________________\n",
      "flatten (Flatten)            multiple                  0 (unused)\n",
      "_________________________________________________________________\n",
      "dense (Dense)                multiple                  0 (unused)\n",
      "_________________________________________________________________\n",
      "dense_1 (Dense)              multiple                  0 (unused)\n",
      "=================================================================\n",
      "Total params: 0\n",
      "Trainable params: 0\n",
      "Non-trainable params: 0\n",
      "_________________________________________________________________\n"
     ]
    }
   ],
   "source": [
    "q_net.build(input_shape=observation_spec.shape)\n",
    "q_net.summary()"
   ]
  },
  {
   "cell_type": "code",
   "execution_count": 24,
   "id": "910e9a45",
   "metadata": {},
   "outputs": [
    {
     "name": "stderr",
     "output_type": "stream",
     "text": [
      "2022-12-04 23:39:15.950060: I tensorflow/stream_executor/cuda/cuda_dnn.cc:384] Loaded cuDNN version 8200\n"
     ]
    }
   ],
   "source": [
    "global_step = tf.compat.v1.train.get_or_create_global_step()\n",
    "#train_step = tf.Variable(0)\n",
    "update_period = 4 # train the model every 4 steps\n",
    "optimizer = tf.keras.optimizers.RMSprop(lr=2.5e-4, rho=0.95, momentum=0.0,\n",
    "                                     epsilon=0.00001, centered=True)\n",
    "epsilon_fn = tf.keras.optimizers.schedules.PolynomialDecay(\n",
    "    initial_learning_rate=1.0, # initial ε\n",
    "    decay_steps=250000 // update_period, # <=> 1,000,000 ALE frames\n",
    "    end_learning_rate=0.01) # final ε\n",
    "agent = dqn_agent.DqnAgent(train_env.time_step_spec(),\n",
    "                           train_env.action_spec(),\n",
    "                           q_network=q_net,\n",
    "                           optimizer=optimizer,\n",
    "                           target_update_period=2000, # <=> 32,000 ALE frames\n",
    "                           td_errors_loss_fn=tf.keras.losses.Huber(reduction=\"none\"),\n",
    "                           gamma=0.99, # discount factor\n",
    "                           train_step_counter=global_step,\n",
    "                           epsilon_greedy=lambda: epsilon_fn(global_step))\n",
    "agent.initialize()\n",
    "     "
   ]
  },
  {
   "cell_type": "code",
   "execution_count": 25,
   "id": "f35ca14b",
   "metadata": {},
   "outputs": [],
   "source": [
    "def compute_avg_return(environment, policy, num_episodes=10, max_steps=-1):\n",
    "\n",
    "  total_return = 0.0\n",
    "  for _ in range(num_episodes):\n",
    "\n",
    "    time_step = environment.reset()\n",
    "    episode_return = 0.0\n",
    "    n_step = 0\n",
    "\n",
    "    while not time_step.is_last():\n",
    "      action_step = policy.action(time_step)\n",
    "      time_step = environment.step(action_step.action)\n",
    "      episode_return += time_step.reward\n",
    "      n_step += 1\n",
    "      if (n_step > max_steps) & (max_steps > 0):\n",
    "        break\n",
    "    \n",
    "    total_return += episode_return\n",
    "\n",
    "  avg_return = total_return / num_episodes\n",
    "  return avg_return.numpy()[0]\n",
    "     "
   ]
  },
  {
   "cell_type": "code",
   "execution_count": 26,
   "id": "b466126b",
   "metadata": {},
   "outputs": [
    {
     "data": {
      "text/plain": [
       "177.0"
      ]
     },
     "execution_count": 26,
     "metadata": {},
     "output_type": "execute_result"
    }
   ],
   "source": [
    "num_eval_episodes = 5\n",
    "compute_avg_return(eval_env, random_policy, num_eval_episodes)"
   ]
  },
  {
   "cell_type": "code",
   "execution_count": 27,
   "id": "e19bbede",
   "metadata": {},
   "outputs": [
    {
     "name": "stderr",
     "output_type": "stream",
     "text": [
      "2022-12-04 23:39:40.637717: W tensorflow/core/framework/cpu_allocator_impl.cc:82] Allocation of 254016000 exceeds 10% of free system memory.\n"
     ]
    }
   ],
   "source": [
    "replay_buffer = TFUniformReplayBuffer(\n",
    "    data_spec=agent.collect_data_spec,\n",
    "    batch_size=train_env.batch_size,\n",
    "    max_length=9000)"
   ]
  },
  {
   "cell_type": "code",
   "execution_count": 28,
   "id": "340c6013",
   "metadata": {},
   "outputs": [],
   "source": [
    "replay_buffer_observer = replay_buffer.add_batch"
   ]
  },
  {
   "cell_type": "code",
   "execution_count": null,
   "id": "a19439fa",
   "metadata": {},
   "outputs": [],
   "source": [
    "train_env.reset()\n",
    "\n",
    "init_driver = DynamicStepDriver(\n",
    "    train_env,\n",
    "    random_policy,\n",
    "    observers=[replay_buffer.add_batch],\n",
    "    num_steps=20_000) # <=> 80,000 ALE frames\n",
    "final_time_step, final_policy_state = init_driver.run()"
   ]
  },
  {
   "cell_type": "code",
   "execution_count": 31,
   "id": "9ba49328",
   "metadata": {},
   "outputs": [
    {
     "name": "stdout",
     "output_type": "stream",
     "text": [
      "WARNING:tensorflow:From /tmp/ipykernel_2378/4285424003.py:1: ReplayBuffer.get_next (from tf_agents.replay_buffers.replay_buffer) is deprecated and will be removed in a future version.\n",
      "Instructions for updating:\n",
      "Use `as_dataset(..., single_deterministic_pass=False) instead.\n"
     ]
    }
   ],
   "source": [
    "\n",
    "trajectories, buffer_info = replay_buffer.get_next(sample_batch_size=2, num_steps=3)\n",
    "     "
   ]
  },
  {
   "cell_type": "code",
   "execution_count": 32,
   "id": "499e1f0f",
   "metadata": {},
   "outputs": [
    {
     "data": {
      "text/plain": [
       "TensorShape([2, 3, 84, 84, 4])"
      ]
     },
     "execution_count": 32,
     "metadata": {},
     "output_type": "execute_result"
    }
   ],
   "source": [
    "trajectories.observation.shape"
   ]
  },
  {
   "cell_type": "code",
   "execution_count": 33,
   "id": "0532b189",
   "metadata": {},
   "outputs": [
    {
     "data": {
      "text/plain": [
       "TensorShape([2, 2, 84, 84, 4])"
      ]
     },
     "execution_count": 33,
     "metadata": {},
     "output_type": "execute_result"
    }
   ],
   "source": [
    "from tf_agents.trajectories.trajectory import to_transition\n",
    "time_steps, action_steps, next_time_steps = to_transition(trajectories)\n",
    "time_steps.observation.shape"
   ]
  },
  {
   "cell_type": "code",
   "execution_count": 34,
   "id": "a8d3ed10",
   "metadata": {},
   "outputs": [],
   "source": [
    "dataset = replay_buffer.as_dataset(\n",
    "    num_parallel_calls=3,\n",
    "    sample_batch_size=32,\n",
    "    num_steps=2).prefetch(3)"
   ]
  },
  {
   "cell_type": "code",
   "execution_count": 35,
   "id": "2492c4f9",
   "metadata": {},
   "outputs": [],
   "source": [
    "\n",
    "iterator = iter(dataset)\n",
    "     "
   ]
  },
  {
   "cell_type": "code",
   "execution_count": 36,
   "id": "d455d064",
   "metadata": {},
   "outputs": [],
   "source": [
    "\n",
    "num_iterations = 100_000   # less intelligence, more persistance; 24x7 player\n",
    "save_interval = 100_000\n",
    "eval_interval = 50_000\n",
    "log_interval = 5_000\n",
    "     "
   ]
  },
  {
   "cell_type": "code",
   "execution_count": 37,
   "id": "8b122df7",
   "metadata": {},
   "outputs": [],
   "source": [
    "\n",
    "# Create a driver to collect experience.\n",
    "collect_driver = DynamicStepDriver(\n",
    "    train_env,\n",
    "    agent.collect_policy,\n",
    "    observers=[replay_buffer_observer],\n",
    "    num_steps=update_period) # collect 4 steps for each training iteration\n",
    "     "
   ]
  },
  {
   "cell_type": "code",
   "execution_count": 38,
   "id": "ee03018d",
   "metadata": {},
   "outputs": [],
   "source": [
    "\n",
    "#from tf_agents.policies import PolicySaver\n",
    "import os\n",
    "import io\n",
    "import tempfile\n",
    "import shutil\n",
    "import zipfile\n",
    "import numpy as np\n",
    "# from google.colab import files\n",
    "\n",
    "tempdir = os.getenv(\"TEST_TMPDIR\", tempfile.gettempdir())"
   ]
  },
  {
   "cell_type": "code",
   "execution_count": 39,
   "id": "287bb990",
   "metadata": {},
   "outputs": [],
   "source": [
    "def create_zip_file(dirname, base_filename):\n",
    "  return shutil.make_archive(base_filename, 'zip', dirname)\n",
    "\n",
    "def save_checkpoint_to_local():\n",
    "  train_checkpointer.save(global_step)\n",
    "  # add returns to checkpoint_dir\n",
    "  np.savetxt(os.path.join(checkpoint_dir, 'returns.txt'), returns, delimiter=',')\n",
    "  checkpoint_zip_filename = create_zip_file(checkpoint_dir, os.path.join(tempdir, 'exported_cp'))\n",
    "  # Privacy and security -> Site Settings -> Automatic downloads\n",
    "  files.download(checkpoint_zip_filename) # try again if this fails: https://github.com/googlecolab/colabtools/issues/469\n",
    "\n",
    "def upload_and_unzip_file_to(dirname):\n",
    "  if files is None:\n",
    "    return\n",
    "  uploaded = files.upload()\n",
    "  for fn in uploaded.keys():\n",
    "    print('User uploaded file \"{name}\" with length {length} bytes'.format(\n",
    "        name=fn, length=len(uploaded[fn])))\n",
    "    shutil.rmtree(dirname)\n",
    "    zip_files = zipfile.ZipFile(io.BytesIO(uploaded[fn]), 'r')\n",
    "    zip_files.extractall(dirname)\n",
    "    zip_files.close()\n",
    "     "
   ]
  },
  {
   "cell_type": "code",
   "execution_count": 40,
   "id": "1b1011ef",
   "metadata": {},
   "outputs": [],
   "source": [
    "\n",
    "checkpoint_dir = os.path.join(tempdir, 'checkpoint')\n",
    "train_checkpointer = common.Checkpointer(\n",
    "    ckpt_dir=checkpoint_dir,\n",
    "    max_to_keep=1,\n",
    "    agent=agent,\n",
    "    policy=agent.policy,\n",
    "    replay_buffer=replay_buffer,\n",
    "    global_step=global_step\n",
    ")\n",
    "     "
   ]
  },
  {
   "cell_type": "code",
   "execution_count": null,
   "id": "e2acc6d9",
   "metadata": {},
   "outputs": [
    {
     "name": "stdout",
     "output_type": "stream",
     "text": [
      "WARNING:tensorflow:From /opt/conda/lib/python3.7/site-packages/tensorflow/python/util/dispatch.py:1176: calling foldr_v2 (from tensorflow.python.ops.functional_ops) with back_prop=False is deprecated and will be removed in a future version.\n",
      "Instructions for updating:\n",
      "back_prop=False is deprecated. Consider using tf.stop_gradient instead.\n",
      "Instead of:\n",
      "results = tf.foldr(fn, elems, back_prop=False)\n",
      "Use:\n",
      "results = tf.nest.map_structure(tf.stop_gradient, tf.foldr(fn, elems))\n"
     ]
    },
    {
     "name": "stderr",
     "output_type": "stream",
     "text": [
      "WARNING:tensorflow:From /opt/conda/lib/python3.7/site-packages/tensorflow/python/util/dispatch.py:1176: calling foldr_v2 (from tensorflow.python.ops.functional_ops) with back_prop=False is deprecated and will be removed in a future version.\n",
      "Instructions for updating:\n",
      "back_prop=False is deprecated. Consider using tf.stop_gradient instead.\n",
      "Instead of:\n",
      "results = tf.foldr(fn, elems, back_prop=False)\n",
      "Use:\n",
      "results = tf.nest.map_structure(tf.stop_gradient, tf.foldr(fn, elems))\n"
     ]
    },
    {
     "name": "stdout",
     "output_type": "stream",
     "text": [
      " step 353"
     ]
    }
   ],
   "source": [
    "# (Optional) Optimize by wrapping some of the code in a graph using TF function.\n",
    "collect_driver.run = common.function(collect_driver.run)\n",
    "agent.train = common.function(agent.train)\n",
    "\n",
    "# Reset the train step.\n",
    "agent.train_step_counter.assign(0)\n",
    "\n",
    "# Evaluate the agent's policy once before training.\n",
    "avg_return = compute_avg_return(eval_env, agent.policy, num_eval_episodes)\n",
    "returns = np.array([avg_return])\n",
    "\n",
    "# Reset the environment.\n",
    "time_step = None\n",
    "policy_state = agent.collect_policy.get_initial_state(train_env.batch_size)\n",
    "\n",
    "step = 0\n",
    "while True:\n",
    "    # Collect a few steps using collect_policy and save to the replay buffer.\n",
    "    time_step, policy_state = collect_driver.run(time_step, policy_state)\n",
    "\n",
    "    # Sample a batch of data from the buffer and update the agent's network.\n",
    "    experience, unused_info = next(iterator)\n",
    "    train_loss = agent.train(experience).loss\n",
    "\n",
    "    step = agent.train_step_counter.numpy()\n",
    "    print(f'\\r step {step}', end='')\n",
    "\n",
    "    if step % log_interval == 0:\n",
    "        print('step = {0}: loss = {1}'.format(step, train_loss))\n",
    "\n",
    "    if step % eval_interval == 0:\n",
    "        avg_return = compute_avg_return(eval_env, agent.policy, num_eval_episodes)\n",
    "        print('step = {0}: Average Return = {1}'.format(step, avg_return))\n",
    "        returns = np.append(returns, avg_return)\n",
    "\n",
    "    # if step % save_interval == 0:\n",
    "    #     save_checkpoint_to_local()\n",
    "\n",
    "    if step > num_iterations:\n",
    "        break\n",
    "        \n",
    "        "
   ]
  },
  {
   "cell_type": "code",
   "execution_count": null,
   "id": "62b16680",
   "metadata": {},
   "outputs": [],
   "source": [
    "save_checkpoint_to_local()\n",
    "     "
   ]
  },
  {
   "cell_type": "code",
   "execution_count": null,
   "id": "666a2e56",
   "metadata": {},
   "outputs": [],
   "source": [
    "!mkdir -p $checkpoint_dir"
   ]
  },
  {
   "cell_type": "code",
   "execution_count": null,
   "id": "2e687220",
   "metadata": {},
   "outputs": [],
   "source": [
    "\n",
    "upload_and_unzip_file_to(checkpoint_dir)\n",
    "train_checkpointer.initialize_or_restore()\n",
    "global_step = tf.compat.v1.train.get_global_step()\n",
    "returns = np.loadtxt(os.path.join(checkpoint_dir, 'returns.txt'), delimiter=',', dtype=np.float32)\n",
    "  "
   ]
  },
  {
   "cell_type": "code",
   "execution_count": null,
   "id": "23b98da6",
   "metadata": {},
   "outputs": [],
   "source": [
    "\n",
    "!rm exported_cp.zip\n",
    "     "
   ]
  },
  {
   "cell_type": "code",
   "execution_count": null,
   "id": "044d94ff",
   "metadata": {},
   "outputs": [],
   "source": [
    "\n",
    "num_iterations = 200_000  \n",
    "\n"
   ]
  },
  {
   "cell_type": "code",
   "execution_count": null,
   "id": "db9ee64d",
   "metadata": {},
   "outputs": [],
   "source": [
    "while True:\n",
    "    # Collect a few steps using collect_policy and save to the replay buffer.\n",
    "    time_step, policy_state = collect_driver.run(time_step, policy_state)\n",
    "\n",
    "    # Sample a batch of data from the buffer and update the agent's network.\n",
    "    experience, unused_info = next(iterator)\n",
    "    train_loss = agent.train(experience).loss\n",
    "\n",
    "    step = agent.train_step_counter.numpy()\n",
    "    print(f'\\r step {step}', end='')\n",
    "\n",
    "    if step % log_interval == 0:\n",
    "        print('step = {0}: loss = {1}'.format(step, train_loss))\n",
    "\n",
    "    if step % eval_interval == 0:\n",
    "        avg_return = compute_avg_return(eval_env, agent.policy, num_eval_episodes)\n",
    "        print('step = {0}: Average Return = {1}'.format(step, avg_return))\n",
    "        returns = np.append(returns, avg_return)\n",
    "\n",
    "    # if step % save_interval == 0:\n",
    "    #     save_checkpoint_to_local()\n",
    "\n",
    "    if step > num_iterations:\n",
    "        break\n",
    "     "
   ]
  },
  {
   "cell_type": "code",
   "execution_count": null,
   "id": "0fd22276",
   "metadata": {},
   "outputs": [],
   "source": [
    "\n",
    "save_checkpoint_to_local()"
   ]
  },
  {
   "cell_type": "code",
   "execution_count": null,
   "id": "6bc07338",
   "metadata": {},
   "outputs": [],
   "source": [
    "from tf_agents.policies import policy_saver\n",
    "\n",
    "policy_dir = os.path.join(tempdir, 'policy')\n",
    "tf_policy_saver = policy_saver.PolicySaver(agent.policy)\n",
    "\n",
    "tf_policy_saver.save(policy_dir)\n",
    "policy_zip_filename = create_zip_file(policy_dir, os.path.join(tempdir, 'exported_policy'))\n",
    "     "
   ]
  },
  {
   "cell_type": "code",
   "execution_count": null,
   "id": "d209dcaf",
   "metadata": {},
   "outputs": [],
   "source": [
    "files.download(policy_zip_filename)"
   ]
  },
  {
   "cell_type": "code",
   "execution_count": null,
   "id": "5e328fb8",
   "metadata": {},
   "outputs": [],
   "source": [
    "\n",
    "# upload_and_unzip_file_to(policy_dir)       # wget from github and unzip\n",
    "# saved_policy = tf.saved_model.load(policy_dir)\n",
    "     "
   ]
  },
  {
   "cell_type": "code",
   "execution_count": null,
   "id": "3ca08f6b",
   "metadata": {},
   "outputs": [],
   "source": [
    "\n",
    "iterations = range(0, num_iterations + 1, eval_interval)\n",
    "plt.plot(iterations, returns)\n",
    "plt.ylabel('Average Return')\n",
    "plt.xlabel('Iterations')\n",
    "plt.ylim(top=550)"
   ]
  },
  {
   "cell_type": "code",
   "execution_count": null,
   "id": "e1707bad",
   "metadata": {},
   "outputs": [],
   "source": [
    "\n",
    "create_policy_eval_video(agent.policy, \"trained-agent\", num_episodes=1)\n",
    "     "
   ]
  },
  {
   "cell_type": "code",
   "execution_count": null,
   "id": "807602d2",
   "metadata": {},
   "outputs": [],
   "source": []
  }
 ],
 "metadata": {
  "kernelspec": {
   "display_name": "ppenv",
   "language": "python",
   "name": "ppenv"
  },
  "language_info": {
   "codemirror_mode": {
    "name": "ipython",
    "version": 3
   },
   "file_extension": ".py",
   "mimetype": "text/x-python",
   "name": "python",
   "nbconvert_exporter": "python",
   "pygments_lexer": "ipython3",
   "version": "3.7.12"
  }
 },
 "nbformat": 4,
 "nbformat_minor": 5
}
